{
 "cells": [
  {
   "cell_type": "markdown",
   "metadata": {},
   "source": [
    "# What have I done so far?   \n",
    "I have created a dictionary named days_counts where the key is the number of the day of the week and the value is the accumultated number of births that day   \n",
    "\n",
    "1. **day_of_week**:  1 is Monday, 2 is tuesday, etc. \n",
    "2. **births**: number of births. \n"
   ]
  },
  {
   "cell_type": "code",
   "execution_count": 1,
   "metadata": {
    "collapsed": true
   },
   "outputs": [],
   "source": [
    "f = open(\"births.csv\", 'r')\n",
    "text = f.read()\n"
   ]
  },
  {
   "cell_type": "code",
   "execution_count": 2,
   "metadata": {
    "collapsed": false
   },
   "outputs": [],
   "source": [
    "text_split = text.split(\"\\n\")\n",
    "\n"
   ]
  },
  {
   "cell_type": "code",
   "execution_count": 3,
   "metadata": {
    "collapsed": true
   },
   "outputs": [],
   "source": [
    "days_counts = {}"
   ]
  },
  {
   "cell_type": "code",
   "execution_count": 4,
   "metadata": {
    "collapsed": false
   },
   "outputs": [
    {
     "name": "stdout",
     "output_type": "stream",
     "text": [
      "['1994,1,1,6,8096', '1994,1,2,7,7772', '1994,1,3,1,10142', '1994,1,4,2,11248', '1994,1,5,3,11053']\n"
     ]
    }
   ],
   "source": [
    "data = text_split[1:]\n",
    "\n",
    "print(data[0:5])"
   ]
  },
  {
   "cell_type": "code",
   "execution_count": 6,
   "metadata": {
    "collapsed": false
   },
   "outputs": [
    {
     "name": "stdout",
     "output_type": "stream",
     "text": [
      "{'2': 12892392, '6': 9124222, '7': 8159446, '1': 11578332, '4': 12576858, '3': 12645710, '5': 12467314}\n"
     ]
    }
   ],
   "source": [
    "for each in data: \n",
    "    split_each = each.split(\",\")\n",
    "    day_of_week = split_each[3]\n",
    "    births = int(split_each[4])\n",
    "\n",
    "    \n",
    "    if day_of_week in days_counts: \n",
    "        days_counts[day_of_week] = days_counts[day_of_week] + births\n",
    "    else: \n",
    "        days_counts[day_of_week] = births\n",
    "        \n",
    "print(days_counts)\n",
    "        \n",
    "    "
   ]
  },
  {
   "cell_type": "code",
   "execution_count": null,
   "metadata": {
    "collapsed": true
   },
   "outputs": [],
   "source": []
  }
 ],
 "metadata": {
  "anaconda-cloud": {},
  "kernelspec": {
   "display_name": "Python 3",
   "language": "python",
   "name": "python3"
  },
  "language_info": {
   "codemirror_mode": {
    "name": "ipython",
    "version": 3
   },
   "file_extension": ".py",
   "mimetype": "text/x-python",
   "name": "python",
   "nbconvert_exporter": "python",
   "pygments_lexer": "ipython3",
   "version": "3.4.3"
  }
 },
 "nbformat": 4,
 "nbformat_minor": 1
}
